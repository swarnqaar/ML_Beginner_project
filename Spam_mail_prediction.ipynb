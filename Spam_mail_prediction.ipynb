{
  "nbformat": 4,
  "nbformat_minor": 0,
  "metadata": {
    "colab": {
      "provenance": []
    },
    "kernelspec": {
      "name": "python3",
      "display_name": "Python 3"
    },
    "language_info": {
      "name": "python"
    }
  },
  "cells": [
    {
      "cell_type": "markdown",
      "source": [
        "Spam mail Prediction"
      ],
      "metadata": {
        "id": "o9ZwbM2pMYcd"
      }
    },
    {
      "cell_type": "markdown",
      "source": [
        "spam\" refers to unsolicited bulk messages, typically advertising, that are considered junk mail.\n",
        "\n",
        "\"ham\" refers to legitimate, desired emails that are not considered spam."
      ],
      "metadata": {
        "id": "OZiS6bfv-CPc"
      }
    },
    {
      "cell_type": "markdown",
      "source": [
        "Importing the dependencies"
      ],
      "metadata": {
        "id": "MUsAoqgR-O3C"
      }
    },
    {
      "cell_type": "code",
      "execution_count": null,
      "metadata": {
        "id": "BQfdMzWv9uTF"
      },
      "outputs": [],
      "source": [
        "import numpy as np\n",
        "import pandas as pd\n",
        "from sklearn.model_selection import train_test_split\n",
        "from sklearn.feature_extraction.text import TfidfVectorizer\n",
        "from sklearn.linear_model import LogisticRegression\n",
        "from sklearn.metrics import accuracy_score\n"
      ]
    },
    {
      "cell_type": "markdown",
      "source": [
        "Data collection and preprocessing"
      ],
      "metadata": {
        "id": "XViEKw24_pcc"
      }
    },
    {
      "cell_type": "code",
      "source": [
        "#loading the mail data from csv file the the pandas dataframe\n",
        "raw_mail_data = pd.read_csv('/content/mail_data.csv')"
      ],
      "metadata": {
        "id": "2hKPHOVJ_FUd"
      },
      "execution_count": null,
      "outputs": []
    },
    {
      "cell_type": "code",
      "source": [
        "print(raw_mail_data)"
      ],
      "metadata": {
        "id": "9oo4ZLxCAkpF"
      },
      "execution_count": null,
      "outputs": []
    },
    {
      "cell_type": "code",
      "source": [
        "#replace the null value with a null string\n",
        "\n",
        "mail_data = raw_mail_data.where(pd.notnull(raw_mail_data),'')"
      ],
      "metadata": {
        "id": "wcZiyS3bApYb"
      },
      "execution_count": null,
      "outputs": []
    },
    {
      "cell_type": "code",
      "source": [
        "mail_data.head()"
      ],
      "metadata": {
        "id": "mjwaJA2BCXZF"
      },
      "execution_count": null,
      "outputs": []
    },
    {
      "cell_type": "code",
      "source": [
        "mail_data.shape"
      ],
      "metadata": {
        "id": "YIcSfONzCbJ0"
      },
      "execution_count": null,
      "outputs": []
    },
    {
      "cell_type": "markdown",
      "source": [
        "Label Encoding"
      ],
      "metadata": {
        "id": "fz4RSVMiCntN"
      }
    },
    {
      "cell_type": "code",
      "source": [
        "#label spam mail as 0, spam mail as 1\n",
        "\n",
        "mail_data.loc[mail_data['Category']=='spam', 'Category']=0\n",
        "\n",
        "\n",
        "mail_data.loc[mail_data['Category']=='ham', 'Category']=1\n"
      ],
      "metadata": {
        "id": "pbtTqFwqCjk8"
      },
      "execution_count": null,
      "outputs": []
    },
    {
      "cell_type": "markdown",
      "source": [
        "spam--> 0\n",
        "\n",
        "ham--> 1"
      ],
      "metadata": {
        "id": "hH3xWeAwDaZc"
      }
    },
    {
      "cell_type": "code",
      "source": [
        "#separating the data\n",
        "\n",
        "x = mail_data['Message']\n",
        "\n",
        "y = mail_data['Category']"
      ],
      "metadata": {
        "id": "rYBA_RtjDQ5F"
      },
      "execution_count": null,
      "outputs": []
    },
    {
      "cell_type": "code",
      "source": [
        "print(x)"
      ],
      "metadata": {
        "id": "r_c1bzxND2eu"
      },
      "execution_count": null,
      "outputs": []
    },
    {
      "cell_type": "code",
      "source": [
        "print(y)"
      ],
      "metadata": {
        "id": "yfIQKueGD4TT"
      },
      "execution_count": null,
      "outputs": []
    },
    {
      "cell_type": "markdown",
      "source": [
        "Splitting the data into training data  and test data"
      ],
      "metadata": {
        "id": "1vRrkMTDD-9g"
      }
    },
    {
      "cell_type": "code",
      "source": [
        "x_train, x_test, y_train, y_test = train_test_split(x,y, test_size=0.2, random_state =2)"
      ],
      "metadata": {
        "id": "07NcqFVpD-dj"
      },
      "execution_count": null,
      "outputs": []
    },
    {
      "cell_type": "code",
      "source": [
        "print(x.shape, x_train.shape, x_test.shape)"
      ],
      "metadata": {
        "id": "DIKyaHI7D6kj"
      },
      "execution_count": null,
      "outputs": []
    },
    {
      "cell_type": "code",
      "source": [
        "print(x_train)"
      ],
      "metadata": {
        "id": "_qolXvOlEqbz"
      },
      "execution_count": null,
      "outputs": []
    },
    {
      "cell_type": "code",
      "source": [
        "print(y_train)"
      ],
      "metadata": {
        "id": "v3rM99IIEvDT"
      },
      "execution_count": null,
      "outputs": []
    },
    {
      "cell_type": "markdown",
      "source": [
        "Features Extracation"
      ],
      "metadata": {
        "id": "rJ6GRFSVE-Er"
      }
    },
    {
      "cell_type": "code",
      "source": [
        "#transform the text  data to feature vector that  can be used as input to the logistic regression\n",
        "\n",
        "feature_extraction = TfidfVectorizer(min_df=1, stop_words = 'english', lowercase =True)"
      ],
      "metadata": {
        "id": "lWkmN1WkE25T"
      },
      "execution_count": null,
      "outputs": []
    },
    {
      "cell_type": "code",
      "source": [
        "x_train_features = feature_extraction.fit_transform(x_train)\n",
        "x_test_features = feature_extraction.transform(x_test)"
      ],
      "metadata": {
        "id": "LZO0mZlLFV6F"
      },
      "execution_count": null,
      "outputs": []
    },
    {
      "cell_type": "code",
      "source": [
        "#convert the y train and y test values as integer\n",
        "\n",
        "y_train = y_train.astype('int')\n",
        "y_test = y_test.astype('int')"
      ],
      "metadata": {
        "id": "jryCbRrzGGjk"
      },
      "execution_count": null,
      "outputs": []
    },
    {
      "cell_type": "code",
      "source": [
        "print(x_train_features)"
      ],
      "metadata": {
        "id": "LpBrc8oHHbP6"
      },
      "execution_count": null,
      "outputs": []
    },
    {
      "cell_type": "markdown",
      "source": [
        "Training the Model"
      ],
      "metadata": {
        "id": "elmuityQHv0K"
      }
    },
    {
      "cell_type": "markdown",
      "source": [
        "Losgistic regression"
      ],
      "metadata": {
        "id": "cXNuZs27HzCj"
      }
    },
    {
      "cell_type": "code",
      "source": [
        "model = LogisticRegression()"
      ],
      "metadata": {
        "id": "jOhw06RsHhNE"
      },
      "execution_count": null,
      "outputs": []
    },
    {
      "cell_type": "code",
      "source": [
        "# training the logistic regressin model with training data\n",
        "\n",
        "model.fit(x_train_features, y_train)"
      ],
      "metadata": {
        "id": "AF5rThE4H7WF"
      },
      "execution_count": null,
      "outputs": []
    },
    {
      "cell_type": "markdown",
      "source": [
        "Evaluating the trained model"
      ],
      "metadata": {
        "id": "MSt3DwrOISmL"
      }
    },
    {
      "cell_type": "code",
      "source": [
        "# prediction on training data\n",
        "\n",
        "prediction_on_training_data =  model.predict(x_train_features)\n",
        "accuracy_on_training_data = accuracy_score(y_train, prediction_on_training_data)\n",
        "\n",
        "print('Accuracy on training data;', accuracy_on_training_data)"
      ],
      "metadata": {
        "id": "VfojAPyiIK-k"
      },
      "execution_count": null,
      "outputs": []
    },
    {
      "cell_type": "code",
      "source": [
        "# prediction on test data\n",
        "\n",
        "prediction_on_test_data =  model.predict(x_test_features)\n",
        "accuracy_on_test_data = accuracy_score(y_test, prediction_on_test_data)\n",
        "\n",
        "print('Accuracy on test data;', accuracy_on_test_data)"
      ],
      "metadata": {
        "id": "GjPtwTyvI_-F"
      },
      "execution_count": null,
      "outputs": []
    },
    {
      "cell_type": "markdown",
      "source": [
        "Build a predictive system"
      ],
      "metadata": {
        "id": "DA8u_TsQJsvD"
      }
    },
    {
      "cell_type": "code",
      "source": [
        "input_mail=[\"Even my brother is not like to speak with me. They treat me like aids patent.\"]"
      ],
      "metadata": {
        "id": "GZIpgDVKJm3X"
      },
      "execution_count": null,
      "outputs": []
    },
    {
      "cell_type": "code",
      "source": [
        "#convert test to feature vector\n",
        "\n",
        "input_mail_features = feature_extraction.transform(input_mail)"
      ],
      "metadata": {
        "id": "_mEhj_MLKB6D"
      },
      "execution_count": null,
      "outputs": []
    },
    {
      "cell_type": "code",
      "source": [
        "# making prediction\n",
        "\n",
        "prediction = model.predict(input_mail_features)\n",
        "print(prediction)"
      ],
      "metadata": {
        "id": "wjXuZUqSKb79"
      },
      "execution_count": null,
      "outputs": []
    },
    {
      "cell_type": "code",
      "source": [
        "if prediction[0]==1:\n",
        "  print('ham mail')\n",
        "else:\n",
        "  print(\"spam mail\")"
      ],
      "metadata": {
        "id": "Qqte12FwLHg8"
      },
      "execution_count": null,
      "outputs": []
    }
  ]
}